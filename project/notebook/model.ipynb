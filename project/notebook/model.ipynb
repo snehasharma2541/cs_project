{
 "cells": [
  {
   "cell_type": "code",
   "execution_count": 138,
   "id": "0de15b99",
   "metadata": {},
   "outputs": [],
   "source": [
    "import pandas as pd\n",
    "import numpy as np\n",
    "import matplotlib.pyplot as plt\n",
    "import seaborn as sns"
   ]
  },
  {
   "cell_type": "code",
   "execution_count": 139,
   "id": "1d1624fe",
   "metadata": {},
   "outputs": [],
   "source": [
    "df = pd.read_csv(\"../dataset/Final_Dataset_CS.csv\")"
   ]
  },
  {
   "cell_type": "code",
   "execution_count": 140,
   "id": "c8ef7766",
   "metadata": {},
   "outputs": [],
   "source": [
    "for col in df.select_dtypes(include='object').columns:\n",
    "    df[col] = df[col].str.lower()\n",
    "\n",
    "df.columns = df.columns.str.lower()"
   ]
  },
  {
   "cell_type": "code",
   "execution_count": 141,
   "id": "10d38543",
   "metadata": {},
   "outputs": [
    {
     "data": {
      "text/html": [
       "<div>\n",
       "<style scoped>\n",
       "    .dataframe tbody tr th:only-of-type {\n",
       "        vertical-align: middle;\n",
       "    }\n",
       "\n",
       "    .dataframe tbody tr th {\n",
       "        vertical-align: top;\n",
       "    }\n",
       "\n",
       "    .dataframe thead th {\n",
       "        text-align: right;\n",
       "    }\n",
       "</style>\n",
       "<table border=\"1\" class=\"dataframe\">\n",
       "  <thead>\n",
       "    <tr style=\"text-align: right;\">\n",
       "      <th></th>\n",
       "      <th>source port</th>\n",
       "      <th>destination port</th>\n",
       "      <th>protocol</th>\n",
       "      <th>packet length</th>\n",
       "      <th>packet type</th>\n",
       "      <th>traffic type</th>\n",
       "      <th>malware indicators</th>\n",
       "      <th>anomaly scores</th>\n",
       "      <th>alerts/warnings</th>\n",
       "      <th>attack signature</th>\n",
       "      <th>...</th>\n",
       "      <th>geo-location data</th>\n",
       "      <th>browser</th>\n",
       "      <th>device/os</th>\n",
       "      <th>year</th>\n",
       "      <th>month</th>\n",
       "      <th>day</th>\n",
       "      <th>hour</th>\n",
       "      <th>dayofweek</th>\n",
       "      <th>severity level</th>\n",
       "      <th>attack type</th>\n",
       "    </tr>\n",
       "  </thead>\n",
       "  <tbody>\n",
       "    <tr>\n",
       "      <th>0</th>\n",
       "      <td>31225</td>\n",
       "      <td>17616</td>\n",
       "      <td>icmp</td>\n",
       "      <td>503</td>\n",
       "      <td>data</td>\n",
       "      <td>http</td>\n",
       "      <td>ioc detected</td>\n",
       "      <td>28.67</td>\n",
       "      <td>no</td>\n",
       "      <td>known pattern b</td>\n",
       "      <td>...</td>\n",
       "      <td>jamshedpur, sikkim</td>\n",
       "      <td>mozilla</td>\n",
       "      <td>windows</td>\n",
       "      <td>2023</td>\n",
       "      <td>5</td>\n",
       "      <td>30</td>\n",
       "      <td>6</td>\n",
       "      <td>1</td>\n",
       "      <td>low</td>\n",
       "      <td>malware</td>\n",
       "    </tr>\n",
       "    <tr>\n",
       "      <th>1</th>\n",
       "      <td>17245</td>\n",
       "      <td>48166</td>\n",
       "      <td>icmp</td>\n",
       "      <td>1174</td>\n",
       "      <td>data</td>\n",
       "      <td>http</td>\n",
       "      <td>ioc detected</td>\n",
       "      <td>51.50</td>\n",
       "      <td>no</td>\n",
       "      <td>known pattern a</td>\n",
       "      <td>...</td>\n",
       "      <td>bilaspur, nagaland</td>\n",
       "      <td>mozilla</td>\n",
       "      <td>windows</td>\n",
       "      <td>2020</td>\n",
       "      <td>8</td>\n",
       "      <td>26</td>\n",
       "      <td>7</td>\n",
       "      <td>2</td>\n",
       "      <td>low</td>\n",
       "      <td>malware</td>\n",
       "    </tr>\n",
       "    <tr>\n",
       "      <th>2</th>\n",
       "      <td>16811</td>\n",
       "      <td>53600</td>\n",
       "      <td>udp</td>\n",
       "      <td>306</td>\n",
       "      <td>control</td>\n",
       "      <td>http</td>\n",
       "      <td>ioc detected</td>\n",
       "      <td>87.42</td>\n",
       "      <td>yes</td>\n",
       "      <td>known pattern b</td>\n",
       "      <td>...</td>\n",
       "      <td>bokaro, rajasthan</td>\n",
       "      <td>mozilla</td>\n",
       "      <td>windows</td>\n",
       "      <td>2022</td>\n",
       "      <td>11</td>\n",
       "      <td>13</td>\n",
       "      <td>8</td>\n",
       "      <td>6</td>\n",
       "      <td>low</td>\n",
       "      <td>ddos</td>\n",
       "    </tr>\n",
       "    <tr>\n",
       "      <th>3</th>\n",
       "      <td>20018</td>\n",
       "      <td>32534</td>\n",
       "      <td>udp</td>\n",
       "      <td>385</td>\n",
       "      <td>data</td>\n",
       "      <td>http</td>\n",
       "      <td>no detection</td>\n",
       "      <td>15.79</td>\n",
       "      <td>yes</td>\n",
       "      <td>known pattern b</td>\n",
       "      <td>...</td>\n",
       "      <td>jaunpur, rajasthan</td>\n",
       "      <td>mozilla</td>\n",
       "      <td>macintosh</td>\n",
       "      <td>2023</td>\n",
       "      <td>7</td>\n",
       "      <td>2</td>\n",
       "      <td>10</td>\n",
       "      <td>6</td>\n",
       "      <td>medium</td>\n",
       "      <td>malware</td>\n",
       "    </tr>\n",
       "    <tr>\n",
       "      <th>4</th>\n",
       "      <td>6131</td>\n",
       "      <td>26646</td>\n",
       "      <td>tcp</td>\n",
       "      <td>1462</td>\n",
       "      <td>data</td>\n",
       "      <td>dns</td>\n",
       "      <td>no detection</td>\n",
       "      <td>0.52</td>\n",
       "      <td>yes</td>\n",
       "      <td>known pattern b</td>\n",
       "      <td>...</td>\n",
       "      <td>anantapur, tripura</td>\n",
       "      <td>mozilla</td>\n",
       "      <td>windows</td>\n",
       "      <td>2023</td>\n",
       "      <td>7</td>\n",
       "      <td>16</td>\n",
       "      <td>13</td>\n",
       "      <td>6</td>\n",
       "      <td>low</td>\n",
       "      <td>ddos</td>\n",
       "    </tr>\n",
       "  </tbody>\n",
       "</table>\n",
       "<p>5 rows × 22 columns</p>\n",
       "</div>"
      ],
      "text/plain": [
       "   source port  destination port protocol  packet length packet type  \\\n",
       "0        31225             17616     icmp            503        data   \n",
       "1        17245             48166     icmp           1174        data   \n",
       "2        16811             53600      udp            306     control   \n",
       "3        20018             32534      udp            385        data   \n",
       "4         6131             26646      tcp           1462        data   \n",
       "\n",
       "  traffic type malware indicators  anomaly scores alerts/warnings  \\\n",
       "0         http       ioc detected           28.67              no   \n",
       "1         http       ioc detected           51.50              no   \n",
       "2         http       ioc detected           87.42             yes   \n",
       "3         http       no detection           15.79             yes   \n",
       "4          dns       no detection            0.52             yes   \n",
       "\n",
       "  attack signature  ...   geo-location data  browser  device/os  year month  \\\n",
       "0  known pattern b  ...  jamshedpur, sikkim  mozilla    windows  2023     5   \n",
       "1  known pattern a  ...  bilaspur, nagaland  mozilla    windows  2020     8   \n",
       "2  known pattern b  ...   bokaro, rajasthan  mozilla    windows  2022    11   \n",
       "3  known pattern b  ...  jaunpur, rajasthan  mozilla  macintosh  2023     7   \n",
       "4  known pattern b  ...  anantapur, tripura  mozilla    windows  2023     7   \n",
       "\n",
       "   day  hour  dayofweek  severity level  attack type  \n",
       "0   30     6          1             low      malware  \n",
       "1   26     7          2             low      malware  \n",
       "2   13     8          6             low         ddos  \n",
       "3    2    10          6          medium      malware  \n",
       "4   16    13          6             low         ddos  \n",
       "\n",
       "[5 rows x 22 columns]"
      ]
     },
     "execution_count": 141,
     "metadata": {},
     "output_type": "execute_result"
    }
   ],
   "source": [
    "df.head()"
   ]
  },
  {
   "cell_type": "code",
   "execution_count": 142,
   "id": "53c0fc45",
   "metadata": {},
   "outputs": [
    {
     "data": {
      "text/plain": [
       "(40000, 22)"
      ]
     },
     "execution_count": 142,
     "metadata": {},
     "output_type": "execute_result"
    }
   ],
   "source": [
    "df.shape"
   ]
  },
  {
   "cell_type": "code",
   "execution_count": 143,
   "id": "136b0263",
   "metadata": {},
   "outputs": [
    {
     "data": {
      "text/plain": [
       "<bound method DataFrame.info of        source port  destination port protocol  packet length packet type  \\\n",
       "0            31225             17616     icmp            503        data   \n",
       "1            17245             48166     icmp           1174        data   \n",
       "2            16811             53600      udp            306     control   \n",
       "3            20018             32534      udp            385        data   \n",
       "4             6131             26646      tcp           1462        data   \n",
       "...            ...               ...      ...            ...         ...   \n",
       "39995        31005              6764      udp           1428     control   \n",
       "39996         2553             28091      udp           1184     control   \n",
       "39997        22505             25152      udp           1043        data   \n",
       "39998        20013              2703      udp            483        data   \n",
       "39999        50137             55575     icmp           1175     control   \n",
       "\n",
       "      traffic type malware indicators  anomaly scores alerts/warnings  \\\n",
       "0             http       ioc detected           28.67              no   \n",
       "1             http       ioc detected           51.50              no   \n",
       "2             http       ioc detected           87.42             yes   \n",
       "3             http       no detection           15.79             yes   \n",
       "4              dns       no detection            0.52             yes   \n",
       "...            ...                ...             ...             ...   \n",
       "39995         http       ioc detected           39.28              no   \n",
       "39996         http       ioc detected           27.25              no   \n",
       "39997          dns       ioc detected           31.01              no   \n",
       "39998          ftp       ioc detected           97.85             yes   \n",
       "39999         http       no detection           34.63             yes   \n",
       "\n",
       "      attack signature  ...              geo-location data  browser  \\\n",
       "0      known pattern b  ...             jamshedpur, sikkim  mozilla   \n",
       "1      known pattern a  ...             bilaspur, nagaland  mozilla   \n",
       "2      known pattern b  ...              bokaro, rajasthan  mozilla   \n",
       "3      known pattern b  ...             jaunpur, rajasthan  mozilla   \n",
       "4      known pattern b  ...             anantapur, tripura  mozilla   \n",
       "...                ...  ...                            ...      ...   \n",
       "39995  known pattern a  ...                nashik, manipur  mozilla   \n",
       "39996  known pattern a  ...              vadodara, mizoram  mozilla   \n",
       "39997  known pattern b  ...  mahbubnagar, himachal pradesh  mozilla   \n",
       "39998  known pattern b  ...    rourkela, arunachal pradesh  mozilla   \n",
       "39999  known pattern b  ...       pudukkottai, west bengal  mozilla   \n",
       "\n",
       "       device/os  year month  day  hour  dayofweek  severity level  \\\n",
       "0        windows  2023     5   30     6          1             low   \n",
       "1        windows  2020     8   26     7          2             low   \n",
       "2        windows  2022    11   13     8          6             low   \n",
       "3      macintosh  2023     7    2    10          6          medium   \n",
       "4        windows  2023     7   16    13          6             low   \n",
       "...          ...   ...   ...  ...   ...        ...             ...   \n",
       "39995       ipad  2023     5   26    14          4          medium   \n",
       "39996    windows  2023     3   27     0          0            high   \n",
       "39997    windows  2022     3   31     1          3             low   \n",
       "39998      linux  2023     9   22    18          4             low   \n",
       "39999       ipod  2023    10   10    11          1          medium   \n",
       "\n",
       "       attack type  \n",
       "0          malware  \n",
       "1          malware  \n",
       "2             ddos  \n",
       "3          malware  \n",
       "4             ddos  \n",
       "...            ...  \n",
       "39995         ddos  \n",
       "39996         ddos  \n",
       "39997         ddos  \n",
       "39998      malware  \n",
       "39999    intrusion  \n",
       "\n",
       "[40000 rows x 22 columns]>"
      ]
     },
     "execution_count": 143,
     "metadata": {},
     "output_type": "execute_result"
    }
   ],
   "source": [
    "df.info"
   ]
  },
  {
   "cell_type": "code",
   "execution_count": 144,
   "id": "2767001c",
   "metadata": {},
   "outputs": [
    {
     "data": {
      "text/plain": [
       "<bound method NDFrame.describe of        source port  destination port protocol  packet length packet type  \\\n",
       "0            31225             17616     icmp            503        data   \n",
       "1            17245             48166     icmp           1174        data   \n",
       "2            16811             53600      udp            306     control   \n",
       "3            20018             32534      udp            385        data   \n",
       "4             6131             26646      tcp           1462        data   \n",
       "...            ...               ...      ...            ...         ...   \n",
       "39995        31005              6764      udp           1428     control   \n",
       "39996         2553             28091      udp           1184     control   \n",
       "39997        22505             25152      udp           1043        data   \n",
       "39998        20013              2703      udp            483        data   \n",
       "39999        50137             55575     icmp           1175     control   \n",
       "\n",
       "      traffic type malware indicators  anomaly scores alerts/warnings  \\\n",
       "0             http       ioc detected           28.67              no   \n",
       "1             http       ioc detected           51.50              no   \n",
       "2             http       ioc detected           87.42             yes   \n",
       "3             http       no detection           15.79             yes   \n",
       "4              dns       no detection            0.52             yes   \n",
       "...            ...                ...             ...             ...   \n",
       "39995         http       ioc detected           39.28              no   \n",
       "39996         http       ioc detected           27.25              no   \n",
       "39997          dns       ioc detected           31.01              no   \n",
       "39998          ftp       ioc detected           97.85             yes   \n",
       "39999         http       no detection           34.63             yes   \n",
       "\n",
       "      attack signature  ...              geo-location data  browser  \\\n",
       "0      known pattern b  ...             jamshedpur, sikkim  mozilla   \n",
       "1      known pattern a  ...             bilaspur, nagaland  mozilla   \n",
       "2      known pattern b  ...              bokaro, rajasthan  mozilla   \n",
       "3      known pattern b  ...             jaunpur, rajasthan  mozilla   \n",
       "4      known pattern b  ...             anantapur, tripura  mozilla   \n",
       "...                ...  ...                            ...      ...   \n",
       "39995  known pattern a  ...                nashik, manipur  mozilla   \n",
       "39996  known pattern a  ...              vadodara, mizoram  mozilla   \n",
       "39997  known pattern b  ...  mahbubnagar, himachal pradesh  mozilla   \n",
       "39998  known pattern b  ...    rourkela, arunachal pradesh  mozilla   \n",
       "39999  known pattern b  ...       pudukkottai, west bengal  mozilla   \n",
       "\n",
       "       device/os  year month  day  hour  dayofweek  severity level  \\\n",
       "0        windows  2023     5   30     6          1             low   \n",
       "1        windows  2020     8   26     7          2             low   \n",
       "2        windows  2022    11   13     8          6             low   \n",
       "3      macintosh  2023     7    2    10          6          medium   \n",
       "4        windows  2023     7   16    13          6             low   \n",
       "...          ...   ...   ...  ...   ...        ...             ...   \n",
       "39995       ipad  2023     5   26    14          4          medium   \n",
       "39996    windows  2023     3   27     0          0            high   \n",
       "39997    windows  2022     3   31     1          3             low   \n",
       "39998      linux  2023     9   22    18          4             low   \n",
       "39999       ipod  2023    10   10    11          1          medium   \n",
       "\n",
       "       attack type  \n",
       "0          malware  \n",
       "1          malware  \n",
       "2             ddos  \n",
       "3          malware  \n",
       "4             ddos  \n",
       "...            ...  \n",
       "39995         ddos  \n",
       "39996         ddos  \n",
       "39997         ddos  \n",
       "39998      malware  \n",
       "39999    intrusion  \n",
       "\n",
       "[40000 rows x 22 columns]>"
      ]
     },
     "execution_count": 144,
     "metadata": {},
     "output_type": "execute_result"
    }
   ],
   "source": [
    "df.describe"
   ]
  },
  {
   "cell_type": "code",
   "execution_count": 145,
   "id": "b16f9e0c",
   "metadata": {},
   "outputs": [
    {
     "data": {
      "text/plain": [
       "880000"
      ]
     },
     "execution_count": 145,
     "metadata": {},
     "output_type": "execute_result"
    }
   ],
   "source": [
    "df.size"
   ]
  },
  {
   "cell_type": "code",
   "execution_count": 146,
   "id": "6e25dfc9",
   "metadata": {},
   "outputs": [
    {
     "data": {
      "text/plain": [
       "<bound method DataFrame.corr of        source port  destination port protocol  packet length packet type  \\\n",
       "0            31225             17616     icmp            503        data   \n",
       "1            17245             48166     icmp           1174        data   \n",
       "2            16811             53600      udp            306     control   \n",
       "3            20018             32534      udp            385        data   \n",
       "4             6131             26646      tcp           1462        data   \n",
       "...            ...               ...      ...            ...         ...   \n",
       "39995        31005              6764      udp           1428     control   \n",
       "39996         2553             28091      udp           1184     control   \n",
       "39997        22505             25152      udp           1043        data   \n",
       "39998        20013              2703      udp            483        data   \n",
       "39999        50137             55575     icmp           1175     control   \n",
       "\n",
       "      traffic type malware indicators  anomaly scores alerts/warnings  \\\n",
       "0             http       ioc detected           28.67              no   \n",
       "1             http       ioc detected           51.50              no   \n",
       "2             http       ioc detected           87.42             yes   \n",
       "3             http       no detection           15.79             yes   \n",
       "4              dns       no detection            0.52             yes   \n",
       "...            ...                ...             ...             ...   \n",
       "39995         http       ioc detected           39.28              no   \n",
       "39996         http       ioc detected           27.25              no   \n",
       "39997          dns       ioc detected           31.01              no   \n",
       "39998          ftp       ioc detected           97.85             yes   \n",
       "39999         http       no detection           34.63             yes   \n",
       "\n",
       "      attack signature  ...              geo-location data  browser  \\\n",
       "0      known pattern b  ...             jamshedpur, sikkim  mozilla   \n",
       "1      known pattern a  ...             bilaspur, nagaland  mozilla   \n",
       "2      known pattern b  ...              bokaro, rajasthan  mozilla   \n",
       "3      known pattern b  ...             jaunpur, rajasthan  mozilla   \n",
       "4      known pattern b  ...             anantapur, tripura  mozilla   \n",
       "...                ...  ...                            ...      ...   \n",
       "39995  known pattern a  ...                nashik, manipur  mozilla   \n",
       "39996  known pattern a  ...              vadodara, mizoram  mozilla   \n",
       "39997  known pattern b  ...  mahbubnagar, himachal pradesh  mozilla   \n",
       "39998  known pattern b  ...    rourkela, arunachal pradesh  mozilla   \n",
       "39999  known pattern b  ...       pudukkottai, west bengal  mozilla   \n",
       "\n",
       "       device/os  year month  day  hour  dayofweek  severity level  \\\n",
       "0        windows  2023     5   30     6          1             low   \n",
       "1        windows  2020     8   26     7          2             low   \n",
       "2        windows  2022    11   13     8          6             low   \n",
       "3      macintosh  2023     7    2    10          6          medium   \n",
       "4        windows  2023     7   16    13          6             low   \n",
       "...          ...   ...   ...  ...   ...        ...             ...   \n",
       "39995       ipad  2023     5   26    14          4          medium   \n",
       "39996    windows  2023     3   27     0          0            high   \n",
       "39997    windows  2022     3   31     1          3             low   \n",
       "39998      linux  2023     9   22    18          4             low   \n",
       "39999       ipod  2023    10   10    11          1          medium   \n",
       "\n",
       "       attack type  \n",
       "0          malware  \n",
       "1          malware  \n",
       "2             ddos  \n",
       "3          malware  \n",
       "4             ddos  \n",
       "...            ...  \n",
       "39995         ddos  \n",
       "39996         ddos  \n",
       "39997         ddos  \n",
       "39998      malware  \n",
       "39999    intrusion  \n",
       "\n",
       "[40000 rows x 22 columns]>"
      ]
     },
     "execution_count": 146,
     "metadata": {},
     "output_type": "execute_result"
    }
   ],
   "source": [
    "df.corr"
   ]
  },
  {
   "cell_type": "code",
   "execution_count": 147,
   "id": "ad80a0eb",
   "metadata": {},
   "outputs": [
    {
     "data": {
      "text/plain": [
       "source port           0\n",
       "destination port      0\n",
       "protocol              0\n",
       "packet length         0\n",
       "packet type           0\n",
       "traffic type          0\n",
       "malware indicators    0\n",
       "anomaly scores        0\n",
       "alerts/warnings       0\n",
       "attack signature      0\n",
       "action taken          0\n",
       "user information      0\n",
       "geo-location data     0\n",
       "browser               0\n",
       "device/os             0\n",
       "year                  0\n",
       "month                 0\n",
       "day                   0\n",
       "hour                  0\n",
       "dayofweek             0\n",
       "severity level        0\n",
       "attack type           0\n",
       "dtype: int64"
      ]
     },
     "execution_count": 147,
     "metadata": {},
     "output_type": "execute_result"
    }
   ],
   "source": [
    "df.isnull().sum().sort_values(ascending=False)"
   ]
  },
  {
   "cell_type": "code",
   "execution_count": 148,
   "id": "f08ecf9d",
   "metadata": {},
   "outputs": [
    {
     "data": {
      "text/plain": [
       "attack type\n",
       "ddos         13428\n",
       "malware      13307\n",
       "intrusion    13265\n",
       "Name: count, dtype: int64"
      ]
     },
     "execution_count": 148,
     "metadata": {},
     "output_type": "execute_result"
    }
   ],
   "source": [
    "df['attack type'].value_counts()"
   ]
  },
  {
   "cell_type": "code",
   "execution_count": 149,
   "id": "b245dc92",
   "metadata": {},
   "outputs": [
    {
     "name": "stdout",
     "output_type": "stream",
     "text": [
      "\n",
      "protocol: protocol\n",
      "icmp    13429\n",
      "udp     13299\n",
      "tcp     13272\n",
      "Name: count, dtype: int64\n",
      "\n",
      "packet type: packet type\n",
      "control    20237\n",
      "data       19763\n",
      "Name: count, dtype: int64\n",
      "\n",
      "traffic type: traffic type\n",
      "dns     13376\n",
      "http    13360\n",
      "ftp     13264\n",
      "Name: count, dtype: int64\n",
      "\n",
      "device/os: device/os\n",
      "windows      17953\n",
      "linux         8840\n",
      "macintosh     5813\n",
      "ipod          2656\n",
      "android       1620\n",
      "iphone        1567\n",
      "ipad          1551\n",
      "Name: count, dtype: int64\n",
      "\n",
      "browser: browser\n",
      "mozilla    31951\n",
      "opera       8049\n",
      "Name: count, dtype: int64\n"
     ]
    }
   ],
   "source": [
    "for col in ['protocol', 'packet type', 'traffic type', 'device/os', 'browser']:\n",
    "    print(f\"\\n{col}:\", df[col].value_counts())"
   ]
  },
  {
   "cell_type": "code",
   "execution_count": 150,
   "id": "5d537e1f",
   "metadata": {},
   "outputs": [
    {
     "data": {
      "text/plain": [
       "array([[<Axes: title={'center': 'packet length'}>,\n",
       "        <Axes: title={'center': 'anomaly scores'}>]], dtype=object)"
      ]
     },
     "execution_count": 150,
     "metadata": {},
     "output_type": "execute_result"
    },
    {
     "data": {
      "image/png": "[encoded data removed]",
      "text/plain": [
       "<Figure size 1000x400 with 2 Axes>"
      ]
     },
     "metadata": {},
     "output_type": "display_data"
    }
   ],
   "source": [
    "df[['packet length', 'anomaly scores']].describe()\n",
    "df[['packet length', 'anomaly scores']].hist(bins=30, figsize=(10, 4))"
   ]
  },
  {
   "cell_type": "code",
   "execution_count": 151,
   "id": "6490efb1",
   "metadata": {},
   "outputs": [
    {
     "data": {
      "image/png": "[encoded data removed]",
      "text/plain": [
       "<Figure size 640x480 with 2 Axes>"
      ]
     },
     "metadata": {},
     "output_type": "display_data"
    }
   ],
   "source": [
    "sns.heatmap(df.corr(numeric_only=True), cmap='coolwarm', linewidths=0.5, annot=True, fmt=\".2f\")\n",
    "plt.title(\"Correlation Heatmap\")\n",
    "plt.show()"
   ]
  },
  {
   "cell_type": "code",
   "execution_count": 152,
   "id": "192765ba",
   "metadata": {},
   "outputs": [
    {
     "data": {
      "text/plain": [
       "attack type\n",
       "ddos         50.235063\n",
       "malware      50.125794\n",
       "intrusion    49.978029\n",
       "Name: anomaly scores, dtype: float64"
      ]
     },
     "execution_count": 152,
     "metadata": {},
     "output_type": "execute_result"
    }
   ],
   "source": [
    "df.groupby('attack type')['anomaly scores'].mean().sort_values(ascending=False)"
   ]
  },
  {
   "cell_type": "code",
   "execution_count": 153,
   "id": "d842603c",
   "metadata": {},
   "outputs": [
    {
     "data": {
      "text/plain": [
       "<Axes: title={'center': 'Attacks by Hour'}, xlabel='hour'>"
      ]
     },
     "execution_count": 153,
     "metadata": {},
     "output_type": "execute_result"
    },
    {
     "data": {
      "image/png": "[encoded data removed]",
      "text/plain": [
       "<Figure size 640x480 with 1 Axes>"
      ]
     },
     "metadata": {},
     "output_type": "display_data"
    }
   ],
   "source": [
    "df['hour'].value_counts().sort_index().plot(kind='bar', title='Attacks by Hour')"
   ]
  },
  {
   "cell_type": "code",
   "execution_count": 154,
   "id": "d4b54a44",
   "metadata": {},
   "outputs": [],
   "source": [
    "y1 = df[\"attack type\"]\n",
    "y2 = df[\"severity level\"]\n",
    "\n",
    "\n",
    "x = df.drop(columns=[\"attack type\", \"severity level\"])"
   ]
  },
  {
   "cell_type": "code",
   "execution_count": 155,
   "id": "f4b4096e",
   "metadata": {},
   "outputs": [],
   "source": [
    "from sklearn.preprocessing import LabelEncoder\n",
    "\n",
    "# Create a LabelEncoder instance\n",
    "le = LabelEncoder()\n",
    "\n",
    "# Apply to each categorical column\n",
    "x['protocol'] = le.fit_transform(x['protocol'])\n",
    "x['packet type'] = le.fit_transform(x['packet type'])\n",
    "x['traffic type'] = le.fit_transform(x['traffic type'])"
   ]
  },
  {
   "cell_type": "code",
   "execution_count": 156,
   "id": "0dee3138",
   "metadata": {},
   "outputs": [],
   "source": [
    "from sklearn.ensemble import RandomForestClassifier\n",
    "from sklearn.metrics import accuracy_score, classification_report, confusion_matrix\n",
    "from sklearn.model_selection import train_test_split\n",
    "from sklearn.tree import plot_tree "
   ]
  },
  {
   "cell_type": "code",
   "execution_count": 157,
   "id": "36a1d1a0",
   "metadata": {},
   "outputs": [],
   "source": [
    "\n",
    "x_train, x_test, y_train, y_test = train_test_split(x, y1, test_size=0.2, random_state=42)"
   ]
  },
  {
   "cell_type": "code",
   "execution_count": 158,
   "id": "399d56bf",
   "metadata": {},
   "outputs": [
    {
     "ename": "ValueError",
     "evalue": "could not convert string to float: 'ioc detected'",
     "output_type": "error",
     "traceback": [
      "\u001b[31m---------------------------------------------------------------------------\u001b[39m",
      "\u001b[31mValueError\u001b[39m                                Traceback (most recent call last)",
      "\u001b[32m~\\AppData\\Local\\Temp\\ipykernel_11596\\1582389438.py\u001b[39m in \u001b[36m?\u001b[39m\u001b[34m()\u001b[39m\n\u001b[32m      1\u001b[39m model = RandomForestClassifier(n_estimators=\u001b[32m100\u001b[39m, random_state=\u001b[32m42\u001b[39m)\n\u001b[32m----> \u001b[39m\u001b[32m2\u001b[39m model.fit(x_train, y_train)\n",
      "\u001b[32mc:\\Users\\admin\\AppData\\Local\\Programs\\Python\\Python313\\Lib\\site-packages\\sklearn\\base.py\u001b[39m in \u001b[36m?\u001b[39m\u001b[34m(estimator, *args, **kwargs)\u001b[39m\n\u001b[32m   1359\u001b[39m                 skip_parameter_validation=(\n\u001b[32m   1360\u001b[39m                     prefer_skip_nested_validation \u001b[38;5;28;01mor\u001b[39;00m global_skip_validation\n\u001b[32m   1361\u001b[39m                 )\n\u001b[32m   1362\u001b[39m             ):\n\u001b[32m-> \u001b[39m\u001b[32m1363\u001b[39m                 \u001b[38;5;28;01mreturn\u001b[39;00m fit_method(estimator, *args, **kwargs)\n",
      "\u001b[32mc:\\Users\\admin\\AppData\\Local\\Programs\\Python\\Python313\\Lib\\site-packages\\sklearn\\ensemble\\_forest.py\u001b[39m in \u001b[36m?\u001b[39m\u001b[34m(self, X, y, sample_weight)\u001b[39m\n\u001b[32m    355\u001b[39m         \u001b[38;5;66;03m# Validate or convert input data\u001b[39;00m\n\u001b[32m    356\u001b[39m         \u001b[38;5;28;01mif\u001b[39;00m issparse(y):\n\u001b[32m    357\u001b[39m             \u001b[38;5;28;01mraise\u001b[39;00m ValueError(\u001b[33m\"sparse multilabel-indicator for y is not supported.\"\u001b[39m)\n\u001b[32m    358\u001b[39m \n\u001b[32m--> \u001b[39m\u001b[32m359\u001b[39m         X, y = validate_data(\n\u001b[32m    360\u001b[39m             self,\n\u001b[32m    361\u001b[39m             X,\n\u001b[32m    362\u001b[39m             y,\n",
      "\u001b[32mc:\\Users\\admin\\AppData\\Local\\Programs\\Python\\Python313\\Lib\\site-packages\\sklearn\\utils\\validation.py\u001b[39m in \u001b[36m?\u001b[39m\u001b[34m(_estimator, X, y, reset, validate_separately, skip_check_array, **check_params)\u001b[39m\n\u001b[32m   2967\u001b[39m             \u001b[38;5;28;01mif\u001b[39;00m \u001b[33m\"estimator\"\u001b[39m \u001b[38;5;28;01mnot\u001b[39;00m \u001b[38;5;28;01min\u001b[39;00m check_y_params:\n\u001b[32m   2968\u001b[39m                 check_y_params = {**default_check_params, **check_y_params}\n\u001b[32m   2969\u001b[39m             y = check_array(y, input_name=\u001b[33m\"y\"\u001b[39m, **check_y_params)\n\u001b[32m   2970\u001b[39m         \u001b[38;5;28;01melse\u001b[39;00m:\n\u001b[32m-> \u001b[39m\u001b[32m2971\u001b[39m             X, y = check_X_y(X, y, **check_params)\n\u001b[32m   2972\u001b[39m         out = X, y\n\u001b[32m   2973\u001b[39m \n\u001b[32m   2974\u001b[39m     \u001b[38;5;28;01mif\u001b[39;00m \u001b[38;5;28;01mnot\u001b[39;00m no_val_X \u001b[38;5;28;01mand\u001b[39;00m check_params.get(\u001b[33m\"ensure_2d\"\u001b[39m, \u001b[38;5;28;01mTrue\u001b[39;00m):\n",
      "\u001b[32mc:\\Users\\admin\\AppData\\Local\\Programs\\Python\\Python313\\Lib\\site-packages\\sklearn\\utils\\validation.py\u001b[39m in \u001b[36m?\u001b[39m\u001b[34m(X, y, accept_sparse, accept_large_sparse, dtype, order, copy, force_writeable, force_all_finite, ensure_all_finite, ensure_2d, allow_nd, multi_output, ensure_min_samples, ensure_min_features, y_numeric, estimator)\u001b[39m\n\u001b[32m   1364\u001b[39m         )\n\u001b[32m   1365\u001b[39m \n\u001b[32m   1366\u001b[39m     ensure_all_finite = _deprecate_force_all_finite(force_all_finite, ensure_all_finite)\n\u001b[32m   1367\u001b[39m \n\u001b[32m-> \u001b[39m\u001b[32m1368\u001b[39m     X = check_array(\n\u001b[32m   1369\u001b[39m         X,\n\u001b[32m   1370\u001b[39m         accept_sparse=accept_sparse,\n\u001b[32m   1371\u001b[39m         accept_large_sparse=accept_large_sparse,\n",
      "\u001b[32mc:\\Users\\admin\\AppData\\Local\\Programs\\Python\\Python313\\Lib\\site-packages\\sklearn\\utils\\validation.py\u001b[39m in \u001b[36m?\u001b[39m\u001b[34m(array, accept_sparse, accept_large_sparse, dtype, order, copy, force_writeable, force_all_finite, ensure_all_finite, ensure_non_negative, ensure_2d, allow_nd, ensure_min_samples, ensure_min_features, estimator, input_name)\u001b[39m\n\u001b[32m   1050\u001b[39m                         )\n\u001b[32m   1051\u001b[39m                     array = xp.astype(array, dtype, copy=\u001b[38;5;28;01mFalse\u001b[39;00m)\n\u001b[32m   1052\u001b[39m                 \u001b[38;5;28;01melse\u001b[39;00m:\n\u001b[32m   1053\u001b[39m                     array = _asarray_with_order(array, order=order, dtype=dtype, xp=xp)\n\u001b[32m-> \u001b[39m\u001b[32m1054\u001b[39m             \u001b[38;5;28;01mexcept\u001b[39;00m ComplexWarning \u001b[38;5;28;01mas\u001b[39;00m complex_warning:\n\u001b[32m   1055\u001b[39m                 raise ValueError(\n\u001b[32m   1056\u001b[39m                     \u001b[33m\"Complex data not supported\\n{}\\n\"\u001b[39m.format(array)\n\u001b[32m   1057\u001b[39m                 ) \u001b[38;5;28;01mfrom\u001b[39;00m complex_warning\n",
      "\u001b[32mc:\\Users\\admin\\AppData\\Local\\Programs\\Python\\Python313\\Lib\\site-packages\\sklearn\\utils\\_array_api.py\u001b[39m in \u001b[36m?\u001b[39m\u001b[34m(array, dtype, order, copy, xp, device)\u001b[39m\n\u001b[32m    753\u001b[39m         \u001b[38;5;66;03m# Use NumPy API to support order\u001b[39;00m\n\u001b[32m    754\u001b[39m         \u001b[38;5;28;01mif\u001b[39;00m copy \u001b[38;5;28;01mis\u001b[39;00m \u001b[38;5;28;01mTrue\u001b[39;00m:\n\u001b[32m    755\u001b[39m             array = numpy.array(array, order=order, dtype=dtype)\n\u001b[32m    756\u001b[39m         \u001b[38;5;28;01melse\u001b[39;00m:\n\u001b[32m--> \u001b[39m\u001b[32m757\u001b[39m             array = numpy.asarray(array, order=order, dtype=dtype)\n\u001b[32m    758\u001b[39m \n\u001b[32m    759\u001b[39m         \u001b[38;5;66;03m# At this point array is a NumPy ndarray. We convert it to an array\u001b[39;00m\n\u001b[32m    760\u001b[39m         \u001b[38;5;66;03m# container that is consistent with the input's namespace.\u001b[39;00m\n",
      "\u001b[32mc:\\Users\\admin\\AppData\\Local\\Programs\\Python\\Python313\\Lib\\site-packages\\pandas\\core\\generic.py\u001b[39m in \u001b[36m?\u001b[39m\u001b[34m(self, dtype, copy)\u001b[39m\n\u001b[32m   2164\u001b[39m             )\n\u001b[32m   2165\u001b[39m         values = self._values\n\u001b[32m   2166\u001b[39m         \u001b[38;5;28;01mif\u001b[39;00m copy \u001b[38;5;28;01mis\u001b[39;00m \u001b[38;5;28;01mNone\u001b[39;00m:\n\u001b[32m   2167\u001b[39m             \u001b[38;5;66;03m# Note: branch avoids `copy=None` for NumPy 1.x support\u001b[39;00m\n\u001b[32m-> \u001b[39m\u001b[32m2168\u001b[39m             arr = np.asarray(values, dtype=dtype)\n\u001b[32m   2169\u001b[39m         \u001b[38;5;28;01melse\u001b[39;00m:\n\u001b[32m   2170\u001b[39m             arr = np.array(values, dtype=dtype, copy=copy)\n\u001b[32m   2171\u001b[39m \n",
      "\u001b[31mValueError\u001b[39m: could not convert string to float: 'ioc detected'"
     ]
    }
   ],
   "source": [
    "model = RandomForestClassifier(n_estimators=100, random_state=42)\n",
    "model.fit(x_train, y_train)"
   ]
  },
  {
   "cell_type": "code",
   "execution_count": null,
   "id": "98e49bdc",
   "metadata": {},
   "outputs": [],
   "source": []
  },
  {
   "cell_type": "code",
   "execution_count": null,
   "id": "f2ff1498",
   "metadata": {},
   "outputs": [],
   "source": []
  }
 ],
 "metadata": {
  "kernelspec": {
   "display_name": "Python 3",
   "language": "python",
   "name": "python3"
  },
  "language_info": {
   "codemirror_mode": {
    "name": "ipython",
    "version": 3
   },
   "file_extension": ".py",
   "mimetype": "text/x-python",
   "name": "python",
   "nbconvert_exporter": "python",
   "pygments_lexer": "ipython3",
   "version": "3.13.4"
  }
 },
 "nbformat": 4,
 "nbformat_minor": 5
}
